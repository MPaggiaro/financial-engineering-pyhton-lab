{
 "cells": [
  {
   "cell_type": "markdown",
   "metadata": {},
   "source": [
    "# Numpy Basics\n",
    "NumPy is probably the most used package for scientific computing with Python.\n",
    "\n",
    "## The main entity\n",
    "\n",
    "NumPy’s main object is the homogeneous multidimensional array. It is a table of elements (usually numbers), all of the same type, indexed by a tuple of positive integers. In NumPy dimensions are called axes. NumPy’s array class is called `ndarray`. "
   ]
  },
  {
   "cell_type": "code",
   "execution_count": 6,
   "metadata": {},
   "outputs": [
    {
     "name": "stdout",
     "output_type": "stream",
     "text": [
      "the numpy array:  [[1 1 2]\n",
      " [3 5 8]]\n",
      "the shape (similar to matlab's size):  (2, 3)\n",
      "the number of dimensions:  2\n",
      "the number of elements:  6\n",
      "the type of the elements:  int64\n"
     ]
    }
   ],
   "source": [
    "import numpy as np\n",
    "\n",
    "myNumpyArray = np.array([[1, 1, 2],\n",
    "                         [3, 5, 8]])\n",
    "\n",
    "print(\"the numpy array: \", myNumpyArray)\n",
    "\n",
    "print(\"the shape (similar to matlab's size): \", myNumpyArray.shape)\n",
    "\n",
    "print(\"the number of dimensions: \", myNumpyArray.ndim)\n",
    "\n",
    "print(\"the number of elements: \", myNumpyArray.size)\n",
    "\n",
    "print(\"the type of the elements: \", myNumpyArray.dtype)"
   ]
  },
  {
   "cell_type": "markdown",
   "metadata": {},
   "source": [
    "## Array Creation\n",
    "NumPy provides handy functions to initialize arrays."
   ]
  },
  {
   "cell_type": "code",
   "execution_count": 4,
   "metadata": {},
   "outputs": [
    {
     "name": "stdout",
     "output_type": "stream",
     "text": [
      "zeros:  [[0. 0. 0.]\n",
      " [0. 0. 0.]]\n",
      "ones:  [[1. 1.]\n",
      " [1. 1.]\n",
      " [1. 1.]]\n",
      "arange:  [1 3 5 7 9]\n",
      "linspace:  [ 1.    3.25  5.5   7.75 10.  ]\n"
     ]
    }
   ],
   "source": [
    "import numpy as np\n",
    "\n",
    "# zeros\n",
    "zeros = np.zeros((2, 3))\n",
    "print(\"zeros: \", zeros)\n",
    "\n",
    "# ones\n",
    "ones = np.ones((3, 2))\n",
    "print(\"ones: \", ones)\n",
    "\n",
    "# arange\n",
    "arange = np.arange(1, 10, 2)\n",
    "print(\"arange: \", arange)\n",
    "\n",
    "# linspace\n",
    "linspace = np.linspace(1, 10, 5)\n",
    "print(\"linspace: \", linspace)"
   ]
  },
  {
   "cell_type": "markdown",
   "metadata": {},
   "source": [
    "## Operations\n",
    "In NumPy all operations on `ndarray` are element-wise operations."
   ]
  },
  {
   "cell_type": "code",
   "execution_count": 14,
   "metadata": {},
   "outputs": [
    {
     "name": "stdout",
     "output_type": "stream",
     "text": [
      "a + b:  [[ 6  8]\n",
      " [10 12]]\n",
      "a - b:  [[-4 -4]\n",
      " [-4 -4]]\n",
      "a * b:  [[ 5 12]\n",
      " [21 32]]\n",
      "a / b:  [[0.2        0.33333333]\n",
      " [0.42857143 0.5       ]]\n"
     ]
    }
   ],
   "source": [
    "import numpy as np\n",
    "\n",
    "a = np.array([[1, 2],\n",
    "              [3, 4]])\n",
    "\n",
    "b = np.array([[5, 6],\n",
    "              [7, 8]])\n",
    "\n",
    "# addition\n",
    "print(\"a + b: \", a + b)\n",
    "\n",
    "# substraction\n",
    "print(\"a - b: \", a - b)\n",
    "\n",
    "# multiplication\n",
    "print(\"a * b: \", a * b)\n",
    "\n",
    "# division\n",
    "print(\"a / b: \", a / b)"
   ]
  },
  {
   "cell_type": "markdown",
   "metadata": {},
   "source": [
    "for matrix multiplication one needs to use **.dot**."
   ]
  },
  {
   "cell_type": "code",
   "execution_count": 15,
   "metadata": {},
   "outputs": [
    {
     "name": "stdout",
     "output_type": "stream",
     "text": [
      "a.dot(b):  [[19 22]\n",
      " [43 50]]\n"
     ]
    }
   ],
   "source": [
    "# matrix multiplication\n",
    "print(\"a.dot(b): \", a.dot(b))"
   ]
  },
  {
   "cell_type": "markdown",
   "metadata": {},
   "source": [
    "### Mathematical Operations\n",
    "NumPy provides implementations for the operations we commonly use:"
   ]
  },
  {
   "cell_type": "code",
   "execution_count": null,
   "metadata": {},
   "outputs": [],
   "source": [
    "import numpy as np\n",
    "\n",
    "a = np.arange(1, 5)\n",
    "b = np.arange(-2, 3)\n",
    "\n",
    "# exponentiation\n",
    "print(\"a**2: \", a**2)\n",
    "print(\"np.exp(a): \", np.exp(a))\n",
    "\n",
    "# square root\n",
    "print(\"np.sqrt(a): \", np.sqrt(a))\n",
    "\n",
    "# positive part\n",
    "print(\"positive part of b: \", b.clip(0, np.inf))\n",
    "\n",
    "# negative part\n",
    "print(\"negative part of b: \", b.clip(-np.inf, 0))"
   ]
  },
  {
   "cell_type": "markdown",
   "metadata": {},
   "source": [
    "### Reduction Operations\n",
    "NumPy also provides implementations for the usual reduction operations:"
   ]
  },
  {
   "cell_type": "code",
   "execution_count": 12,
   "metadata": {},
   "outputs": [
    {
     "name": "stdout",
     "output_type": "stream",
     "text": [
      "sum:  10\n",
      "sum:  10\n",
      "mean:  2.5\n",
      "mean:  2.5\n",
      "standard deviation:  1.118033988749895\n",
      "standard deviation:  1.118033988749895\n",
      "max:  4\n",
      "min:  1\n"
     ]
    }
   ],
   "source": [
    "import numpy as np\n",
    "\n",
    "a = np.arange(1, 5)\n",
    "\n",
    "# sum\n",
    "print(\"sum: \", a.sum())\n",
    "print(\"sum: \", np.sum(a))\n",
    "\n",
    "# mean\n",
    "print(\"mean: \", a.mean())\n",
    "print(\"mean: \", np.mean(a))\n",
    "\n",
    "# standard deviation\n",
    "print(\"standard deviation: \", a.std())\n",
    "print(\"standard deviation: \", np.std(a))\n",
    "\n",
    "# max/min\n",
    "print(\"max: \", a.max())\n",
    "print(\"min: \", np.min(a))\n"
   ]
  },
  {
   "cell_type": "markdown",
   "metadata": {},
   "source": [
    "### Shape Manipulation Operations\n",
    "NumPy provides as well handy operations to play with the say of an array:"
   ]
  },
  {
   "cell_type": "code",
   "execution_count": 23,
   "metadata": {},
   "outputs": [
    {
     "name": "stdout",
     "output_type": "stream",
     "text": [
      "a transposed:  [[1 4]\n",
      " [2 5]\n",
      " [3 6]]\n",
      "a transposed shape:  (3, 2)\n",
      "a flattened:  [1 2 3 4 5 6]\n",
      "a reshaped to (3,2):  [[1 2]\n",
      " [3 4]\n",
      " [5 6]]\n"
     ]
    }
   ],
   "source": [
    "import numpy as np\n",
    "\n",
    "a = np.array([[1, 2, 3],\n",
    "              [4, 5, 6]])\n",
    "\n",
    "# transpose\n",
    "print(\"a transposed: \", a.T)\n",
    "print(\"a transposed shape: \", a.T.shape)\n",
    "\n",
    "# flatten\n",
    "print(\"a flattened: \", a.ravel())\n",
    "\n",
    "# reshape\n",
    "print(\"a reshaped to (3,2): \", a.reshape(3,2))"
   ]
  },
  {
   "cell_type": "markdown",
   "metadata": {},
   "source": [
    "## Random Number Generator"
   ]
  },
  {
   "cell_type": "code",
   "execution_count": null,
   "metadata": {},
   "outputs": [],
   "source": []
  }
 ],
 "metadata": {
  "kernelspec": {
   "display_name": "Python 3",
   "language": "python",
   "name": "python3"
  },
  "language_info": {
   "codemirror_mode": {
    "name": "ipython",
    "version": 3
   },
   "file_extension": ".py",
   "mimetype": "text/x-python",
   "name": "python",
   "nbconvert_exporter": "python",
   "pygments_lexer": "ipython3",
   "version": "3.6.3"
  }
 },
 "nbformat": 4,
 "nbformat_minor": 2
}
