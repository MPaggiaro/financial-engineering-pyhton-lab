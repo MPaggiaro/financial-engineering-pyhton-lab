{
 "cells": [
  {
   "cell_type": "markdown",
   "metadata": {},
   "source": [
    "# The Language\n",
    "\n",
    "## Intro\n",
    "__[Python](https://www.python.org/)__ is an **interpreted** high-level programming language for general-purpose programming. Python features a **dynamic type system** and **automatic memory management**, just like Matlab."
   ]
  },
  {
   "cell_type": "code",
   "execution_count": null,
   "metadata": {},
   "outputs": [],
   "source": [
    "pi = 3.1416 \n",
    "pi"
   ]
  },
  {
   "cell_type": "markdown",
   "metadata": {},
   "source": [
    "Indentation is important in Python. For example, there is no *end* keyword to indicate the closing of an **if** clause. It's all based on indentation."
   ]
  },
  {
   "cell_type": "code",
   "execution_count": 1,
   "metadata": {},
   "outputs": [
    {
     "name": "stdout",
     "output_type": "stream",
     "text": [
      "value is 1\n"
     ]
    }
   ],
   "source": [
    "value = 0\n",
    "shouldAddOneExactlyTwice = False\n",
    "\n",
    "if shouldAddOneExactlyTwice:\n",
    "    value += 1\n",
    "value += 1\n",
    "\n",
    "print('value is %d' % value)"
   ]
  },
  {
   "cell_type": "markdown",
   "metadata": {},
   "source": [
    "Functions are easy to define. Indentation is important in this case as well."
   ]
  },
  {
   "cell_type": "code",
   "execution_count": null,
   "metadata": {},
   "outputs": [],
   "source": [
    "# calculates the payoff of a european option\n",
    "def payoff(price, strike, flag):\n",
    "    if flag == 1:\n",
    "        return price - strike\n",
    "    else:\n",
    "        return strike - price\n",
    "\n",
    "price = 105\n",
    "strike = 100\n",
    "print('call payoff: %f' % payoff(price, strike, 1))\n",
    "print('put payoff: %f' % payoff(price, strike, -1))"
   ]
  },
  {
   "cell_type": "markdown",
   "metadata": {},
   "source": [
    "## Sequence Types\n",
    "Besides the usual built-in types like **bool**, **int**, **float**, etc. Python has what are called **Sequence Types** which allow you to store a collection of elements. We will see **lists**, **tuples** and **str**."
   ]
  },
  {
   "cell_type": "markdown",
   "metadata": {},
   "source": [
    "### Lists\n",
    "Lists are **mutable** sequences used to store a collection of **homogeneous** elements."
   ]
  },
  {
   "cell_type": "code",
   "execution_count": null,
   "metadata": {},
   "outputs": [],
   "source": [
    "strikes = [0.92, 0.95, 1, 1.05, 1.1]\n",
    "print('strikes before: ', strikes)\n",
    "\n",
    "# lists are mutable\n",
    "strikes[0] = 0.9\n",
    "print('strikes after: ', strikes)\n",
    "\n",
    "# they provide some operations allowed for mutable objects\n",
    "strikes.append(1.2)\n",
    "print('strikes appended: ', strikes)\n",
    "strikes.clear()\n",
    "print('strikes cleared: ', strikes)"
   ]
  },
  {
   "cell_type": "markdown",
   "metadata": {},
   "source": [
    "### Tuples\n",
    "Tuples are **immutable** sequences used to store a collection of **heterogeneous** elements."
   ]
  },
  {
   "cell_type": "code",
   "execution_count": null,
   "metadata": {},
   "outputs": [],
   "source": [
    "# import a built-in module from the standard library\n",
    "from datetime import date\n",
    "\n",
    "# (strike, maturity, Call/Put)\n",
    "europeanOption = (100, date(2018, 12, 21), True)\n",
    "print('option: ', europeanOption)"
   ]
  },
  {
   "cell_type": "markdown",
   "metadata": {},
   "source": [
    "tuples are **immutable**."
   ]
  },
  {
   "cell_type": "code",
   "execution_count": null,
   "metadata": {},
   "outputs": [],
   "source": [
    "europeanOption[0] = 120"
   ]
  },
  {
   "cell_type": "markdown",
   "metadata": {},
   "source": [
    "### Strings\n",
    "Strings are **immutable** sequences of **Unicode** code points."
   ]
  },
  {
   "cell_type": "code",
   "execution_count": null,
   "metadata": {},
   "outputs": [],
   "source": [
    "fileName = 'historicalData'\n",
    "\n",
    "# they include some handy operations\n",
    "print(\"capitalized: \", fileName.capitalize())\n",
    "print(\"are all characters letters?: \", fileName.isalpha())\n",
    "print(\"are all characters digits?: \", fileName.isdigit())"
   ]
  },
  {
   "cell_type": "markdown",
   "metadata": {},
   "source": [
    "strings are **immutable**."
   ]
  },
  {
   "cell_type": "code",
   "execution_count": null,
   "metadata": {},
   "outputs": [],
   "source": [
    "# capitalizes does not modify the string, it creates a new one\n",
    "print(\"fileName is still: \", fileName)"
   ]
  },
  {
   "cell_type": "markdown",
   "metadata": {},
   "source": [
    "### Common Operations\n",
    "Some common operations are defined for all sequences."
   ]
  },
  {
   "cell_type": "code",
   "execution_count": null,
   "metadata": {},
   "outputs": [],
   "source": [
    "strikes = [0.9, 0.95, 1, 1.05, 1.1]\n",
    "spreads = ('1Y', 20, '2Y', 30, '3Y', 40)\n",
    "asset = 'Eurostoxx50'\n",
    "\n",
    "# slicing\n",
    "print(\"strikes[1:3]: \", strikes[1:3])\n",
    "print(\"spreads[::2]: \", spreads[::2])\n",
    "print(\"asset[-2:]: \", asset[-2:])"
   ]
  },
  {
   "cell_type": "code",
   "execution_count": null,
   "metadata": {},
   "outputs": [],
   "source": [
    "# length\n",
    "print(\"len(strikes): \", len(strikes))\n",
    "print(\"len(spreads): \", len(spreads))\n",
    "print(\"len(asset): \", len(asset))"
   ]
  },
  {
   "cell_type": "code",
   "execution_count": null,
   "metadata": {},
   "outputs": [],
   "source": [
    "# max\n",
    "print(\"max(strikes): \", max(strikes))\n",
    "#print(\"max(spreads): \", max(spreads))\n",
    "print(\"max(asset): \", max(asset))"
   ]
  },
  {
   "cell_type": "markdown",
   "metadata": {},
   "source": [
    "## Dictionaries\n",
    "Dictionaries are used to map keys to values."
   ]
  },
  {
   "cell_type": "code",
   "execution_count": 1,
   "metadata": {},
   "outputs": [
    {
     "name": "stdout",
     "output_type": "stream",
     "text": [
      "curve:  {datetime.date(2022, 9, 19): 0.9998, datetime.date(2022, 9, 26): 0.9995, datetime.date(2022, 10, 3): 0.9991}\n",
      "curve[one_week]:  0.9998\n",
      "curve keys:  dict_keys([datetime.date(2022, 9, 19), datetime.date(2022, 9, 26), datetime.date(2022, 10, 3)])\n",
      "curve values:  dict_values([0.9998, 0.9995, 0.9991])\n"
     ]
    }
   ],
   "source": [
    "from datetime import date, timedelta\n",
    "\n",
    "curve = {\n",
    "    date.today() + timedelta(weeks=1): 0.9998,\n",
    "    date.today() + timedelta(weeks=2): 0.9995,\n",
    "    date.today() + timedelta(weeks=3): 0.9991\n",
    "}\n",
    "\n",
    "print(\"curve: \", curve)\n",
    "one_week = date.today() + timedelta(weeks=1)\n",
    "print(\"curve[one_week]: \", curve[one_week])\n",
    "\n",
    "# dictionaries provide some handy operations as well\n",
    "print(\"curve keys: \", curve.keys())\n",
    "print(\"curve values: \", curve.values())"
   ]
  },
  {
   "cell_type": "markdown",
   "metadata": {},
   "source": [
    "## Object Oriented Programming (Classes)\n",
    "Python allows for the OOP paradigm by providing the keyword **class** and its accompanying syntax. OOP consists in organizing your code in classes that encapsulate both data and behavior. Instances of a class are called objects, thus OOP."
   ]
  },
  {
   "cell_type": "code",
   "execution_count": 2,
   "metadata": {},
   "outputs": [
    {
     "name": "stdout",
     "output_type": "stream",
     "text": [
      "simple_curve:  <__main__.DiscountCurve object at 0x0000021F75AFBB80>\n",
      "zero rates:  [0.010429614424781616, 0.013038974301001332, 0.015649900654996027]\n"
     ]
    }
   ],
   "source": [
    "from datetime import date, timedelta\n",
    "import math\n",
    "\n",
    "# class definition\n",
    "class DiscountCurve:\n",
    "    def __init__(self, reference_date, curve):\n",
    "        self.curve = curve\n",
    "        self.reference_date = reference_date\n",
    "\n",
    "    def zero_rates(self):\n",
    "        return [ -1/self.act365(date)*math.log(self.curve[date]) for date in self.sorted_dates() ]\n",
    "    \n",
    "    def sorted_dates(self):\n",
    "        return sorted(self.curve)\n",
    "    \n",
    "    def act365(self, date):\n",
    "        return (date - self.reference_date).days/365\n",
    "\n",
    "\n",
    "# let's use our class\n",
    "curve = {\n",
    "    date.today() + timedelta(weeks=1): 0.9998,\n",
    "    date.today() + timedelta(weeks=2): 0.9995,\n",
    "    date.today() + timedelta(weeks=3): 0.9991\n",
    "}\n",
    "simple_curve = DiscountCurve(date.today(), curve)\n",
    "print(\"simple_curve: \", simple_curve)\n",
    "print(\"zero rates: \", simple_curve.zero_rates())"
   ]
  },
  {
   "cell_type": "markdown",
   "metadata": {},
   "source": [
    "## Functional Programming\n",
    "Functional programming is a programming paradigm that treats computation as the evaluation of **functions**. The term function in this context is to be taken in the mathematical sense: functions take an input, make a calculation and return an output; they do not mutate the input, nor modify the state of my program."
   ]
  },
  {
   "cell_type": "markdown",
   "metadata": {},
   "source": [
    "### map and filter\n",
    "Python provides some built-in functions that support this paradigm."
   ]
  },
  {
   "cell_type": "code",
   "execution_count": null,
   "metadata": {},
   "outputs": [],
   "source": [
    "# map\n",
    "spot = 100\n",
    "strikes = [85, 90, 95, 100, 105, 110, 115]\n",
    "moneyness = map(lambda strike: spot/strike, strikes)\n",
    "\n",
    "print(\"strikes: \", strikes)\n",
    "print(\"moneyness: \", list(moneyness))"
   ]
  },
  {
   "cell_type": "code",
   "execution_count": null,
   "metadata": {},
   "outputs": [],
   "source": [
    "# filter\n",
    "spot = 100\n",
    "call_strikes = [85, 90, 95, 100, 105, 110, 115]\n",
    "in_the_money_strikes = filter(lambda strike: spot > strike, call_strikes)\n",
    "\n",
    "print(\"strikes: \", call_strikes)\n",
    "print(\"in the money options: \", list(in_the_money_strikes))"
   ]
  },
  {
   "cell_type": "markdown",
   "metadata": {},
   "source": [
    "### Comprehensions\n",
    "Comprehensions allow to apply functional programming in a more concise and comprehensive way."
   ]
  },
  {
   "cell_type": "code",
   "execution_count": null,
   "metadata": {},
   "outputs": [],
   "source": [
    "# there are lists comprehensions (we have already use them)\n",
    "\n",
    "# map operation\n",
    "spot = 100\n",
    "strikes = [85, 90, 95, 100, 105, 110, 115]\n",
    "moneyness = [ spot/strike for strike in strikes ]\n",
    "\n",
    "print(\"strikes: \", strikes)\n",
    "print(\"moneyness: \", moneyness)"
   ]
  },
  {
   "cell_type": "code",
   "execution_count": null,
   "metadata": {},
   "outputs": [],
   "source": [
    "# filter operation\n",
    "spot = 100\n",
    "call_strikes = [85, 90, 95, 100, 105, 110, 115]\n",
    "in_the_money_strikes = [ strike for strike in strikes if spot > strike ]\n",
    "\n",
    "print(\"strikes: \", call_strikes)\n",
    "print(\"in the money options: \", in_the_money_strikes)"
   ]
  },
  {
   "cell_type": "code",
   "execution_count": null,
   "metadata": {},
   "outputs": [],
   "source": [
    "# it's easy to combine both operations\n",
    "spot = 100\n",
    "call_strikes = [85, 90, 95, 100, 105, 110, 115]\n",
    "in_the_money_moneyness = [ spot/strike for strike in strikes if spot > strike ]\n",
    "\n",
    "print(\"strikes: \", call_strikes)\n",
    "print(\"in the money moneyness: \", in_the_money_moneyness)"
   ]
  },
  {
   "cell_type": "code",
   "execution_count": null,
   "metadata": {},
   "outputs": [],
   "source": [
    "# there are dictionary comprehensions as well\n",
    "from datetime import date, timedelta\n",
    "import math\n",
    "\n",
    "reference_date = date.today()\n",
    "curve = {\n",
    "    date.today() + timedelta(weeks=1): 0.9998,\n",
    "    date.today() + timedelta(weeks=2): 0.9995,\n",
    "    date.today() + timedelta(weeks=3): 0.9991\n",
    "}\n",
    "\n",
    "act365 = lambda date: (date - reference_date).days/365\n",
    "zero_rates = { date: -1/act365(date)*math.log(discount) for (date, discount) in curve.items() }\n",
    "\n",
    "print(\"zero_rates: \", zero_rates)"
   ]
  },
  {
   "cell_type": "markdown",
   "metadata": {},
   "source": [
    "## Other Resources\n",
    "* __[Official Python 3 Documentation](https://docs.python.org/3/)__\n",
    "* __[Best Practices Handbook](http://docs.python-guide.org/)__\n",
    "* __[Coursera's Specialization \"Python for Everybody\" by University of Michigan](https://www.coursera.org/specializations/python)__"
   ]
  },
  {
   "cell_type": "code",
   "execution_count": null,
   "metadata": {},
   "outputs": [],
   "source": []
  }
 ],
 "metadata": {
  "kernelspec": {
   "display_name": "Python 3",
   "language": "python",
   "name": "python3"
  },
  "language_info": {
   "codemirror_mode": {
    "name": "ipython",
    "version": 3
   },
   "file_extension": ".py",
   "mimetype": "text/x-python",
   "name": "python",
   "nbconvert_exporter": "python",
   "pygments_lexer": "ipython3",
   "version": "3.8.5"
  }
 },
 "nbformat": 4,
 "nbformat_minor": 2
}
