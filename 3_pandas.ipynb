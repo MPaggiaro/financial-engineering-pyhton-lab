{
 "cells": [
  {
   "cell_type": "markdown",
   "metadata": {},
   "source": [
    "# pandas Basics\n",
    "**pandas** is a library providing fast, flexible, and expressive data structures for data analysis in Python.\n",
    "\n",
    "## Main Features\n",
    "* pandas has two primary data structures, Series (1-dimensional) and DataFrame (2-dimensional). \n",
    "* For R users, DataFrame provides everything that R’s data.frame provides and much more. \n",
    "* pandas is built on top of NumPy and is intended to integrate well within a scientific computing environment with many other 3rd party libraries\n",
    "* Robust IO tools for loading data from flat files (CSV and delimited), Excel files, databases, and saving / loading data from the ultrafast HDF5 format"
   ]
  },
  {
   "cell_type": "markdown",
   "metadata": {},
   "source": [
    "## Read Data\n",
    "It's very easy to read data from excel files:"
   ]
  },
  {
   "cell_type": "code",
   "execution_count": 13,
   "metadata": {},
   "outputs": [
    {
     "name": "stdout",
     "output_type": "stream",
     "text": [
      "                 Depos   BID   ASK\n",
      "0  2008-02-20 00:00:00  3.99  4.03\n",
      "1  2008-02-26 00:00:00  4.05  4.09\n",
      "2  2008-03-19 00:00:00  4.13  4.18\n",
      "3  2008-04-21 00:00:00  4.21  4.27\n",
      "4  2008-05-19 00:00:00   4.3  4.36\n",
      "5  2008-08-19 00:00:00  4.29  4.35\n",
      "6  2008-11-19 00:00:00  4.29  4.35\n",
      "7  2009-02-19 00:00:00  4.29  4.35\n"
     ]
    }
   ],
   "source": [
    "import pandas as pd\n",
    "\n",
    "deposits = pd.read_excel('MktData_CurveBootstrap.xls', skiprows = 9, usecols = 'D:F')\n",
    "deposits = deposits[:8]\n",
    "\n",
    "print(deposits)"
   ]
  },
  {
   "cell_type": "markdown",
   "metadata": {},
   "source": [
    "## Access Data"
   ]
  },
  {
   "cell_type": "code",
   "execution_count": null,
   "metadata": {},
   "outputs": [],
   "source": []
  }
 ],
 "metadata": {
  "kernelspec": {
   "display_name": "Python 3",
   "language": "python",
   "name": "python3"
  },
  "language_info": {
   "codemirror_mode": {
    "name": "ipython",
    "version": 3
   },
   "file_extension": ".py",
   "mimetype": "text/x-python",
   "name": "python",
   "nbconvert_exporter": "python",
   "pygments_lexer": "ipython3",
   "version": "3.6.3"
  }
 },
 "nbformat": 4,
 "nbformat_minor": 2
}
