{
 "cells": [
  {
   "cell_type": "markdown",
   "metadata": {},
   "source": [
    "# Exercises\n",
    "\n",
    "We are going to implement some of the functions required in Assignment 1. The data provided was:\n",
    "\n",
    "<table style=\"width:50%\">\n",
    "    <tr>\n",
    "        <td>Underlying</td>\n",
    "        <td>1 &euro;</td>\n",
    "    </tr>\n",
    "    <tr>\n",
    "        <td>Strike</td>\n",
    "        <td>1 &euro;</td>\n",
    "    </tr>\n",
    "    <tr>\n",
    "        <td>Time to Maturity</td>\n",
    "        <td>1Y</td>\n",
    "    </tr>\n",
    "    <tr>\n",
    "        <td>Volatility</td>\n",
    "        <td>20%</td>\n",
    "    </tr>\n",
    "    <tr>\n",
    "        <td>Zero Rate</td>\n",
    "        <td>3%</td>\n",
    "    </tr>\n",
    "    <tr>\n",
    "        <td>Dividends</td>\n",
    "        <td>non dividends</td>\n",
    "    </tr>\n",
    "</table> "
   ]
  },
  {
   "cell_type": "markdown",
   "metadata": {},
   "source": [
    "## Monte Carlo Simulation\n",
    "Implement the function **EuropeanOptionMC** whose signature is defined below."
   ]
  },
  {
   "cell_type": "code",
   "execution_count": 6,
   "metadata": {},
   "outputs": [],
   "source": [
    "def EuropeanOptionMC(forward, strike, discount_factor, time_to_maturity, volatility, number_of_samples, flag):\n",
    "    raise NotImplementedError\n"
   ]
  },
  {
   "cell_type": "code",
   "execution_count": 7,
   "metadata": {},
   "outputs": [
    {
     "name": "stderr",
     "output_type": "stream",
     "text": [
      ".\n",
      "----------------------------------------------------------------------\n",
      "Ran 1 test in 0.001s\n",
      "\n",
      "OK\n"
     ]
    }
   ],
   "source": [
    "from importlib import reload\n",
    "from test_helper import run_test\n",
    "import tests\n",
    "\n",
    "reload(tests)\n",
    "run_test(tests.EuropeanOptionMCTest('test_call', EuropeanOptionMC))"
   ]
  },
  {
   "cell_type": "code",
   "execution_count": null,
   "metadata": {},
   "outputs": [],
   "source": []
  }
 ],
 "metadata": {
  "kernelspec": {
   "display_name": "Python 3",
   "language": "python",
   "name": "python3"
  },
  "language_info": {
   "codemirror_mode": {
    "name": "ipython",
    "version": 3
   },
   "file_extension": ".py",
   "mimetype": "text/x-python",
   "name": "python",
   "nbconvert_exporter": "python",
   "pygments_lexer": "ipython3",
   "version": "3.6.3"
  }
 },
 "nbformat": 4,
 "nbformat_minor": 2
}
