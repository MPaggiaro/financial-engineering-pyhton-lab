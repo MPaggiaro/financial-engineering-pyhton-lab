{
 "cells": [
  {
   "cell_type": "markdown",
   "metadata": {},
   "source": [
    "# pandas Basics\n",
    "__[**pandas**](https://pandas.pydata.org/)__ is a library providing fast, flexible, and expressive data structures for data analysis in Python.\n",
    "\n",
    "## Main Features\n",
    "* pandas has two primary data structures, Series (1-dimensional) and DataFrame (2-dimensional). \n",
    "* For R users, DataFrame provides everything that R’s data.frame provides and much more. \n",
    "* pandas is built on top of NumPy and is intended to integrate well within a scientific computing environment with many other 3rd party libraries\n",
    "* Robust IO tools for loading data from flat files (CSV and delimited), Excel files, databases, and saving / loading data from the ultrafast HDF5 format"
   ]
  },
  {
   "cell_type": "markdown",
   "metadata": {},
   "source": [
    "## Read Data\n",
    "It's very easy to read data from excel files:"
   ]
  },
  {
   "cell_type": "code",
   "execution_count": 34,
   "metadata": {},
   "outputs": [
    {
     "name": "stdout",
     "output_type": "stream",
     "text": [
      "                      BID   ASK\n",
      "Depos                          \n",
      "2008-02-20 00:00:00  3.99  4.03\n",
      "2008-02-26 00:00:00  4.05  4.09\n",
      "2008-03-19 00:00:00  4.13  4.18\n",
      "2008-04-21 00:00:00  4.21  4.27\n",
      "2008-05-19 00:00:00   4.3  4.36\n",
      "2008-08-19 00:00:00  4.29  4.35\n",
      "2008-11-19 00:00:00  4.29  4.35\n",
      "2009-02-19 00:00:00  4.29  4.35\n"
     ]
    }
   ],
   "source": [
    "import pandas as pd\n",
    "\n",
    "deposits = pd.read_excel('MktData_CurveBootstrap.xls', index_col = 0, skiprows = 9, usecols = 'D:F')\n",
    "deposits = deposits[:8]\n",
    "\n",
    "print(deposits)"
   ]
  },
  {
   "cell_type": "code",
   "execution_count": 41,
   "metadata": {},
   "outputs": [
    {
     "name": "stdout",
     "output_type": "stream",
     "text": [
      "<class 'pandas.core.frame.DataFrame'>\n"
     ]
    }
   ],
   "source": [
    "# the result is a DataFrame\n",
    "print(type(deposits))"
   ]
  },
  {
   "cell_type": "code",
   "execution_count": 43,
   "metadata": {},
   "outputs": [
    {
     "name": "stdout",
     "output_type": "stream",
     "text": [
      "(8, 2)\n"
     ]
    }
   ],
   "source": [
    "# the first column is used as label for the rows\n",
    "print(deposits.shape)"
   ]
  },
  {
   "cell_type": "code",
   "execution_count": 52,
   "metadata": {},
   "outputs": [
    {
     "name": "stdout",
     "output_type": "stream",
     "text": [
      "[Index([2008-02-20 00:00:00, 2008-02-26 00:00:00, 2008-03-19 00:00:00,\n",
      "       2008-04-21 00:00:00, 2008-05-19 00:00:00, 2008-08-19 00:00:00,\n",
      "       2008-11-19 00:00:00, 2009-02-19 00:00:00],\n",
      "      dtype='object', name='Depos'), Index(['BID', 'ASK'], dtype='object')]\n"
     ]
    }
   ],
   "source": [
    "# the axes of the DataFrame are the row labels and the column labels\n",
    "print(deposits.axes)"
   ]
  },
  {
   "cell_type": "code",
   "execution_count": 53,
   "metadata": {},
   "outputs": [
    {
     "name": "stdout",
     "output_type": "stream",
     "text": [
      "[datetime.datetime(2008, 2, 20, 0, 0), datetime.datetime(2008, 2, 26, 0, 0), datetime.datetime(2008, 3, 19, 0, 0), datetime.datetime(2008, 4, 21, 0, 0), datetime.datetime(2008, 5, 19, 0, 0), datetime.datetime(2008, 8, 19, 0, 0), datetime.datetime(2008, 11, 19, 0, 0), datetime.datetime(2009, 2, 19, 0, 0)]\n"
     ]
    }
   ],
   "source": [
    "# we can access the dates by using the axes attribute\n",
    "dates = deposits.axes[0].tolist()\n",
    "\n",
    "print(dates)"
   ]
  },
  {
   "cell_type": "markdown",
   "metadata": {},
   "source": [
    "## Access Data\n",
    "There are many ways to access the data in a DataFrame, we'll see only some of them."
   ]
  },
  {
   "cell_type": "markdown",
   "metadata": {},
   "source": [
    "### Select a single column"
   ]
  },
  {
   "cell_type": "code",
   "execution_count": 54,
   "metadata": {},
   "outputs": [
    {
     "name": "stdout",
     "output_type": "stream",
     "text": [
      "Depos\n",
      "2008-02-20    3.99\n",
      "2008-02-26    4.05\n",
      "2008-03-19    4.13\n",
      "2008-04-21    4.21\n",
      "2008-05-19     4.3\n",
      "2008-08-19    4.29\n",
      "2008-11-19    4.29\n",
      "2009-02-19    4.29\n",
      "Name: BID, dtype: object\n"
     ]
    }
   ],
   "source": [
    "bids = deposits['BID']\n",
    "print(bids)"
   ]
  },
  {
   "cell_type": "code",
   "execution_count": 55,
   "metadata": {},
   "outputs": [
    {
     "name": "stdout",
     "output_type": "stream",
     "text": [
      "<class 'pandas.core.series.Series'>\n"
     ]
    }
   ],
   "source": [
    "print(type(bids))"
   ]
  },
  {
   "cell_type": "markdown",
   "metadata": {},
   "source": [
    "### Select some rows (slicing)"
   ]
  },
  {
   "cell_type": "code",
   "execution_count": 56,
   "metadata": {},
   "outputs": [
    {
     "name": "stdout",
     "output_type": "stream",
     "text": [
      "                      BID   ASK\n",
      "Depos                          \n",
      "2008-04-21 00:00:00  4.21  4.27\n",
      "2008-05-19 00:00:00   4.3  4.36\n",
      "2008-08-19 00:00:00  4.29  4.35\n",
      "2008-11-19 00:00:00  4.29  4.35\n",
      "2009-02-19 00:00:00  4.29  4.35\n"
     ]
    }
   ],
   "source": [
    "print(deposits[3:])"
   ]
  },
  {
   "cell_type": "markdown",
   "metadata": {},
   "source": [
    "### Select by Labels\n",
    "There is an ad-hoc method for selecting the data by label: **loc**."
   ]
  },
  {
   "cell_type": "code",
   "execution_count": 68,
   "metadata": {},
   "outputs": [
    {
     "name": "stdout",
     "output_type": "stream",
     "text": [
      "                      BID   ASK\n",
      "Depos                          \n",
      "2008-02-20 00:00:00  3.99  4.03\n",
      "2008-02-26 00:00:00  4.05  4.09\n",
      "2008-03-19 00:00:00  4.13  4.18\n",
      "2008-04-21 00:00:00  4.21  4.27\n",
      "2008-05-19 00:00:00   4.3  4.36\n",
      "2008-08-19 00:00:00  4.29  4.35\n",
      "2008-11-19 00:00:00  4.29  4.35\n",
      "2009-02-19 00:00:00  4.29  4.35\n"
     ]
    }
   ],
   "source": [
    "# select specific columns by label\n",
    "print(deposits.loc[:,['BID', 'ASK']])"
   ]
  },
  {
   "cell_type": "code",
   "execution_count": 69,
   "metadata": {},
   "outputs": [
    {
     "name": "stdout",
     "output_type": "stream",
     "text": [
      "<class 'pandas.core.frame.DataFrame'>\n"
     ]
    }
   ],
   "source": [
    "print(type(deposits.loc[:,['BID', 'ASK']]))"
   ]
  },
  {
   "cell_type": "code",
   "execution_count": 70,
   "metadata": {},
   "outputs": [
    {
     "name": "stdout",
     "output_type": "stream",
     "text": [
      "4.03\n"
     ]
    }
   ],
   "source": [
    "# select specific value\n",
    "print(deposits.loc[dates[0], 'ASK'])"
   ]
  },
  {
   "cell_type": "code",
   "execution_count": 71,
   "metadata": {},
   "outputs": [
    {
     "name": "stdout",
     "output_type": "stream",
     "text": [
      "<class 'float'>\n"
     ]
    }
   ],
   "source": [
    "print(type(deposits.loc[dates[0], 'ASK']))"
   ]
  },
  {
   "cell_type": "markdown",
   "metadata": {},
   "source": [
    "### Select by Position\n",
    "There is an ad-hoc method for selecting the data by position: **iloc**."
   ]
  },
  {
   "cell_type": "code",
   "execution_count": 72,
   "metadata": {},
   "outputs": [
    {
     "name": "stdout",
     "output_type": "stream",
     "text": [
      "BID    4.21\n",
      "ASK    4.27\n",
      "Name: 2008-04-21 00:00:00, dtype: object\n"
     ]
    }
   ],
   "source": [
    "# select single row\n",
    "print(deposits.iloc[3])"
   ]
  },
  {
   "cell_type": "code",
   "execution_count": 73,
   "metadata": {},
   "outputs": [
    {
     "name": "stdout",
     "output_type": "stream",
     "text": [
      "<class 'pandas.core.series.Series'>\n"
     ]
    }
   ],
   "source": [
    "print(type(deposits.iloc[3]))"
   ]
  },
  {
   "cell_type": "code",
   "execution_count": 74,
   "metadata": {},
   "outputs": [
    {
     "name": "stdout",
     "output_type": "stream",
     "text": [
      "                      ASK\n",
      "Depos                    \n",
      "2008-04-21 00:00:00  4.27\n",
      "2008-05-19 00:00:00  4.36\n"
     ]
    }
   ],
   "source": [
    "# slicing\n",
    "print(deposits.iloc[3:5, 1:])"
   ]
  },
  {
   "cell_type": "code",
   "execution_count": 75,
   "metadata": {},
   "outputs": [
    {
     "name": "stdout",
     "output_type": "stream",
     "text": [
      "<class 'pandas.core.frame.DataFrame'>\n"
     ]
    }
   ],
   "source": [
    "print(type(deposits.iloc[3:5, 1:]))"
   ]
  },
  {
   "cell_type": "code",
   "execution_count": 76,
   "metadata": {},
   "outputs": [
    {
     "name": "stdout",
     "output_type": "stream",
     "text": [
      "4.09\n"
     ]
    }
   ],
   "source": [
    "# select specific value\n",
    "print(deposits.iloc[1, 1])"
   ]
  },
  {
   "cell_type": "markdown",
   "metadata": {},
   "source": [
    "## Other Resources\n",
    "* __[pandas Official Documentation](http://pandas.pydata.org/pandas-docs/stable/)__"
   ]
  },
  {
   "cell_type": "code",
   "execution_count": null,
   "metadata": {},
   "outputs": [],
   "source": []
  }
 ],
 "metadata": {
  "kernelspec": {
   "display_name": "Python 3",
   "language": "python",
   "name": "python3"
  },
  "language_info": {
   "codemirror_mode": {
    "name": "ipython",
    "version": 3
   },
   "file_extension": ".py",
   "mimetype": "text/x-python",
   "name": "python",
   "nbconvert_exporter": "python",
   "pygments_lexer": "ipython3",
   "version": "3.6.3"
  }
 },
 "nbformat": 4,
 "nbformat_minor": 2
}
