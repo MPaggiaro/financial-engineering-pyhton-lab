{
 "cells": [
  {
   "cell_type": "markdown",
   "metadata": {},
   "source": [
    "# Numpy Basics\n",
    "\n",
    "## The main entity\n",
    "\n",
    "NumPy’s main object is the homogeneous multidimensional array. It is a table of elements (usually numbers), all of the same type, indexed by a tuple of positive integers. In NumPy dimensions are called axes. NumPy’s array class is called `ndarray`. "
   ]
  },
  {
   "cell_type": "code",
   "execution_count": 6,
   "metadata": {},
   "outputs": [
    {
     "name": "stdout",
     "output_type": "stream",
     "text": [
      "the numpy array:  [[1 1 2]\n",
      " [3 5 8]]\n",
      "the shape (similar to matlab's size):  (2, 3)\n",
      "the number of dimensions:  2\n",
      "the number of elements:  6\n",
      "the type of the elements:  int64\n"
     ]
    }
   ],
   "source": [
    "import numpy as np\n",
    "\n",
    "myNumpyArray = np.array([[1, 1, 2],\n",
    "                         [3, 5, 8]])\n",
    "\n",
    "print(\"the numpy array: \", myNumpyArray)\n",
    "\n",
    "print(\"the shape (similar to matlab's size): \", myNumpyArray.shape)\n",
    "\n",
    "print(\"the number of dimensions: \", myNumpyArray.ndim)\n",
    "\n",
    "print(\"the number of elements: \", myNumpyArray.size)\n",
    "\n",
    "print(\"the type of the elements: \", myNumpyArray.dtype)"
   ]
  },
  {
   "cell_type": "markdown",
   "metadata": {},
   "source": [
    "## Array Creation\n",
    "NumPy provides handy functions to initialize arrays."
   ]
  },
  {
   "cell_type": "code",
   "execution_count": 4,
   "metadata": {},
   "outputs": [
    {
     "name": "stdout",
     "output_type": "stream",
     "text": [
      "zeros:  [[0. 0. 0.]\n",
      " [0. 0. 0.]]\n",
      "ones:  [[1. 1.]\n",
      " [1. 1.]\n",
      " [1. 1.]]\n",
      "arange:  [1 3 5 7 9]\n",
      "linspace:  [ 1.    3.25  5.5   7.75 10.  ]\n"
     ]
    }
   ],
   "source": [
    "import numpy as np\n",
    "\n",
    "# zeros\n",
    "zeros = np.zeros((2, 3))\n",
    "print(\"zeros: \", zeros)\n",
    "\n",
    "# ones\n",
    "ones = np.ones((3, 2))\n",
    "print(\"ones: \", ones)\n",
    "\n",
    "# arange\n",
    "arange = np.arange(1, 10, 2)\n",
    "print(\"arange: \", arange)\n",
    "\n",
    "# linspace\n",
    "linspace = np.linspace(1, 10, 5)\n",
    "print(\"linspace: \", linspace)"
   ]
  },
  {
   "cell_type": "markdown",
   "metadata": {},
   "source": [
    "## Operations\n",
    "In NumPy all operations on `ndarray` are element-wise operations."
   ]
  },
  {
   "cell_type": "code",
   "execution_count": 14,
   "metadata": {},
   "outputs": [
    {
     "name": "stdout",
     "output_type": "stream",
     "text": [
      "a + b:  [[ 6  8]\n",
      " [10 12]]\n",
      "a - b:  [[-4 -4]\n",
      " [-4 -4]]\n",
      "a * b:  [[ 5 12]\n",
      " [21 32]]\n",
      "a / b:  [[0.2        0.33333333]\n",
      " [0.42857143 0.5       ]]\n"
     ]
    }
   ],
   "source": [
    "import numpy as np\n",
    "\n",
    "a = np.array([[1, 2],\n",
    "              [3, 4]])\n",
    "\n",
    "b = np.array([[5, 6],\n",
    "              [7, 8]])\n",
    "\n",
    "# addition\n",
    "print(\"a + b: \", a + b)\n",
    "\n",
    "# substraction\n",
    "print(\"a - b: \", a - b)\n",
    "\n",
    "# multiplication\n",
    "print(\"a * b: \", a * b)\n",
    "\n",
    "# division\n",
    "print(\"a / b: \", a / b)"
   ]
  },
  {
   "cell_type": "markdown",
   "metadata": {},
   "source": [
    "for matrix multiplication one needs to use **.dot**."
   ]
  },
  {
   "cell_type": "code",
   "execution_count": 15,
   "metadata": {},
   "outputs": [
    {
     "name": "stdout",
     "output_type": "stream",
     "text": [
      "a.dot(b):  [[19 22]\n",
      " [43 50]]\n"
     ]
    }
   ],
   "source": [
    "# matrix multiplication\n",
    "print(\"a.dot(b): \", a.dot(b))"
   ]
  },
  {
   "cell_type": "markdown",
   "metadata": {},
   "source": [
    "NumPy provides implementations for the operations we are used to:"
   ]
  },
  {
   "cell_type": "code",
   "execution_count": 21,
   "metadata": {},
   "outputs": [
    {
     "name": "stdout",
     "output_type": "stream",
     "text": [
      "a**2:  [ 1  4  9 16]\n",
      "np.exp(a):  [ 2.71828183  7.3890561  20.08553692 54.59815003]\n",
      "np.sqrt(a):  [1.         1.41421356 1.73205081 2.        ]\n",
      "positive part of b:  [0. 0. 0. 1. 2.]\n",
      "negative part of b:  [-2. -1.  0.  0.  0.]\n"
     ]
    }
   ],
   "source": [
    "import numpy as np\n",
    "\n",
    "a = np.arange(1, 5)\n",
    "b = np.arange(-2, 3)\n",
    "\n",
    "# exponentiation\n",
    "print(\"a**2: \", a**2)\n",
    "print(\"np.exp(a): \", np.exp(a))\n",
    "\n",
    "# square root\n",
    "print(\"np.sqrt(a): \", np.sqrt(a))\n",
    "\n",
    "# positive part\n",
    "print(\"positive part of b: \", b.clip(0, np.inf))\n",
    "\n",
    "# negative part\n",
    "print(\"negative part of b: \", b.clip(-np.inf, 0))"
   ]
  }
 ],
 "metadata": {
  "kernelspec": {
   "display_name": "Python 3",
   "language": "python",
   "name": "python3"
  },
  "language_info": {
   "codemirror_mode": {
    "name": "ipython",
    "version": 3
   },
   "file_extension": ".py",
   "mimetype": "text/x-python",
   "name": "python",
   "nbconvert_exporter": "python",
   "pygments_lexer": "ipython3",
   "version": "3.6.3"
  }
 },
 "nbformat": 4,
 "nbformat_minor": 2
}
