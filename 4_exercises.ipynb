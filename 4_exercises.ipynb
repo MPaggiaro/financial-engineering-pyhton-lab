{
 "cells": [
  {
   "cell_type": "markdown",
   "metadata": {},
   "source": [
    "# Exercises\n",
    "\n",
    "We are going to implement some functions inspired on the Assignments."
   ]
  },
  {
   "cell_type": "markdown",
   "metadata": {},
   "source": [
    "## Monte Carlo Simulation\n",
    "Implement the function **EuropeanOptionMC** whose signature is defined below."
   ]
  },
  {
   "cell_type": "code",
   "execution_count": null,
   "metadata": {},
   "outputs": [],
   "source": [
    "import numpy as np\n",
    "\n",
    "def EuropeanOptionMC(forward, strike, discount_factor, time_to_maturity, volatility, number_of_samples, flag):\n",
    "    raise NotImplementedError\n"
   ]
  },
  {
   "cell_type": "code",
   "execution_count": null,
   "metadata": {},
   "outputs": [],
   "source": [
    "# make the tests pass\n",
    "\n",
    "from importlib import reload\n",
    "from test_helper import run_test\n",
    "import tests\n",
    "\n",
    "reload(tests)\n",
    "run_test(tests.EuropeanOptionMCTest('test_call', EuropeanOptionMC))\n",
    "run_test(tests.EuropeanOptionMCTest('test_put', EuropeanOptionMC))"
   ]
  },
  {
   "cell_type": "markdown",
   "metadata": {},
   "source": [
    "## Bootstrap Preprocessing\n",
    "First lets implement a function that reads the swap rates from the file **MktData_CurveBootstrap.xls**."
   ]
  },
  {
   "cell_type": "code",
   "execution_count": null,
   "metadata": {},
   "outputs": [],
   "source": [
    "import pandas as pd\n",
    "\n",
    "def ReadSwapRates(file, sheet, fromRow, numberOfRows, columnRange):\n",
    "    raise NotImplementedError"
   ]
  },
  {
   "cell_type": "code",
   "execution_count": null,
   "metadata": {},
   "outputs": [],
   "source": [
    "# make the tests pass\n",
    "\n",
    "from importlib import reload\n",
    "from test_helper import run_test\n",
    "import tests\n",
    "\n",
    "reload(tests)\n",
    "run_test(tests.ReadSwapRatesTest('test_header', ReadSwapRates))\n",
    "run_test(tests.ReadSwapRatesTest('test_number_of_rows', ReadSwapRates))\n",
    "run_test(tests.ReadSwapRatesTest('test_dates', ReadSwapRates))\n",
    "run_test(tests.ReadSwapRatesTest('test_bids', ReadSwapRates))\n",
    "run_test(tests.ReadSwapRatesTest('test_asks', ReadSwapRates))\n"
   ]
  },
  {
   "cell_type": "markdown",
   "metadata": {},
   "source": [
    "Now lets extract the dates and calculate the mid rates."
   ]
  },
  {
   "cell_type": "code",
   "execution_count": null,
   "metadata": {},
   "outputs": [],
   "source": [
    "import numpy as np\n",
    "import pandas as pd\n",
    "\n",
    "def ExtractDatesAndMidRates(swap_rates):\n",
    "    # swap_rates is the DataFrame returned by ReadSwapRates\n",
    "    # to return more than one result in Python simply separate them by comma, e.g. return dates, mid_rates\n",
    "    # return a plain Python list for the dates and a NumPy array for the rates\n",
    "    raise NotImplementedError"
   ]
  },
  {
   "cell_type": "code",
   "execution_count": null,
   "metadata": {},
   "outputs": [],
   "source": [
    "# make the tests pass\n",
    "\n",
    "from importlib import reload\n",
    "from test_helper import run_test\n",
    "import tests\n",
    "\n",
    "reload(tests)\n",
    "run_test(tests.ExtractDatesAndMidRatesTest('test_dates', ExtractDatesAndMidRates))\n",
    "run_test(tests.ExtractDatesAndMidRatesTest('test_mid_rates', ExtractDatesAndMidRates))"
   ]
  },
  {
   "cell_type": "markdown",
   "metadata": {},
   "source": [
    "## Plotting\n",
    "In this exercise we are going to use the __[matplotlib](https://matplotlib.org/)__ library.\n",
    "\n",
    "Given the following survival probability function at time $t$: $ P(t,T) = e^{-\\lambda(T-t)}$ where $\\lambda = 4.10^{-3}$ and $T > t$,\n",
    "* Simulate $10^4$ times the default time $\\tau$\n",
    "* Calculate the empirical survival probabilities up to 30 years from these samples, use a 1 year granularity\n",
    "* Plot in a loglinear scale both the empirical survival probabilities and the theoretical survival probabilities\n"
   ]
  },
  {
   "cell_type": "markdown",
   "metadata": {},
   "source": [
    "First lets implement a function to calculate the empirical survival probabilities. Some functions that may come handy: __[numpy.floor](https://docs.scipy.org/doc/numpy/reference/generated/numpy.floor.html)__, __[numpy.count_nonzero](https://docs.scipy.org/doc/numpy/reference/generated/numpy.count_nonzero.html)__, and __[numpy.cumsum](https://docs.scipy.org/doc/numpy/reference/generated/numpy.cumsum.html)__,"
   ]
  },
  {
   "cell_type": "code",
   "execution_count": 6,
   "metadata": {},
   "outputs": [],
   "source": [
    "import numpy as np\n",
    "\n",
    "def CalculateEmpiricalSurvivalProbabilities(number_of_samples, lambdas, last_year):\n",
    "    raise NotImplementedError"
   ]
  },
  {
   "cell_type": "code",
   "execution_count": 7,
   "metadata": {},
   "outputs": [
    {
     "name": "stderr",
     "output_type": "stream",
     "text": [
      "E\n",
      "======================================================================\n",
      "ERROR: test_size_must_be_30 (tests.CalculateEmpiricalSurvivalProbabilitiesTest)\n",
      "----------------------------------------------------------------------\n",
      "Traceback (most recent call last):\n",
      "  File \"/Users/gianca/Desktop/TutorIngFinanziaria/PythonLab/tests.py\", line 111, in test_size_must_be_30\n",
      "    actual_probabilities = self.student_function(self.number_of_samples, self.lambdas, self.last_year)\n",
      "  File \"<ipython-input-6-b882d4489dc2>\", line 4, in CalculateEmpiricalSurvivalProbabilities\n",
      "    raise NotImplementedError\n",
      "NotImplementedError\n",
      "\n",
      "----------------------------------------------------------------------\n",
      "Ran 1 test in 0.002s\n",
      "\n",
      "FAILED (errors=1)\n",
      "E\n",
      "======================================================================\n",
      "ERROR: test_probabilities (tests.CalculateEmpiricalSurvivalProbabilitiesTest)\n",
      "----------------------------------------------------------------------\n",
      "Traceback (most recent call last):\n",
      "  File \"/Users/gianca/Desktop/TutorIngFinanziaria/PythonLab/tests.py\", line 118, in test_probabilities\n",
      "    actual_probabilities = self.student_function(self.number_of_samples, self.lambdas, self.last_year)\n",
      "  File \"<ipython-input-6-b882d4489dc2>\", line 4, in CalculateEmpiricalSurvivalProbabilities\n",
      "    raise NotImplementedError\n",
      "NotImplementedError\n",
      "\n",
      "----------------------------------------------------------------------\n",
      "Ran 1 test in 0.002s\n",
      "\n",
      "FAILED (errors=1)\n"
     ]
    }
   ],
   "source": [
    "# make the tests pass\n",
    "\n",
    "from importlib import reload\n",
    "from test_helper import run_test\n",
    "import tests\n",
    "\n",
    "reload(tests)\n",
    "run_test(tests.CalculateEmpiricalSurvivalProbabilitiesTest('test_size_must_be_30', CalculateEmpiricalSurvivalProbabilities))\n",
    "run_test(tests.CalculateEmpiricalSurvivalProbabilitiesTest('test_probabilities', CalculateEmpiricalSurvivalProbabilities))"
   ]
  },
  {
   "cell_type": "markdown",
   "metadata": {},
   "source": [
    "Now let's plot our results. Check the __[examples](https://matplotlib.org/tutorials/introductory/sample_plots.html)__ provided in the matplotlib page."
   ]
  },
  {
   "cell_type": "code",
   "execution_count": 16,
   "metadata": {},
   "outputs": [
    {
     "data": {
      "image/png": "[encoded data removed]",
      "text/plain": [
       "<Figure size 432x288 with 1 Axes>"
      ]
     },
     "metadata": {},
     "output_type": "display_data"
    }
   ],
   "source": [
    "import matplotlib\n",
    "import matplotlib.pyplot as plt\n",
    "import numpy as np\n",
    "import solutions\n",
    "\n",
    "# Data for plotting\n",
    "lambdas = 0.004\n",
    "number_of_samples = 10**4\n",
    "last_year = 30\n",
    "times = np.arange(1, last_year + 1)\n",
    "theoretical_probabilities = np.exp(-lambdas*times)\n",
    "empirical_probabilities = solutions.CalculateEmpiricalSurvivalProbabilities(number_of_samples, lambdas, last_year)\n",
    "\n",
    "# get handle for the plot\n",
    "fig, ax = plt.subplots()\n",
    "\n",
    "# plot theoretical_probabilities and empirical_probabilities\n",
    "# TODO\n",
    "\n",
    "# set labels\n",
    "ax.set(xlabel='time (years)', ylabel='survival probabilities')\n",
    "\n",
    "# show plot\n",
    "plt.show()"
   ]
  },
  {
   "cell_type": "code",
   "execution_count": null,
   "metadata": {},
   "outputs": [],
   "source": []
  }
 ],
 "metadata": {
  "kernelspec": {
   "display_name": "Python 3",
   "language": "python",
   "name": "python3"
  },
  "language_info": {
   "codemirror_mode": {
    "name": "ipython",
    "version": 3
   },
   "file_extension": ".py",
   "mimetype": "text/x-python",
   "name": "python",
   "nbconvert_exporter": "python",
   "pygments_lexer": "ipython3",
   "version": "3.6.3"
  }
 },
 "nbformat": 4,
 "nbformat_minor": 2
}
