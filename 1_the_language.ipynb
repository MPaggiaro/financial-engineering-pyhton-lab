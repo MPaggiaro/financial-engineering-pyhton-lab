{
 "cells": [
  {
   "cell_type": "markdown",
   "metadata": {},
   "source": [
    "# The Language\n",
    "\n",
    "## Intro\n",
    "Python is an **interpreted** high-level programming language for general-purpose programming. Python features a **dynamic type system** and **automatic memory management**, just like Matlab."
   ]
  },
  {
   "cell_type": "code",
   "execution_count": 3,
   "metadata": {},
   "outputs": [
    {
     "data": {
      "text/plain": [
       "3.1416"
      ]
     },
     "execution_count": 3,
     "metadata": {},
     "output_type": "execute_result"
    }
   ],
   "source": [
    "pi = 3.1416 \n",
    "pi"
   ]
  },
  {
   "cell_type": "markdown",
   "metadata": {},
   "source": [
    "Indentation is important in Python. For example, there is no *end* keyword to indicate the closing of an **if** clause. It's all based on indentation."
   ]
  },
  {
   "cell_type": "code",
   "execution_count": 7,
   "metadata": {},
   "outputs": [
    {
     "name": "stdout",
     "output_type": "stream",
     "text": [
      "value is 1\n"
     ]
    }
   ],
   "source": [
    "value = 0\n",
    "shouldAddOneExactlyTwice = False\n",
    "\n",
    "if shouldAddOneExactlyTwice:\n",
    "    value += 1\n",
    "value += 1\n",
    "\n",
    "print('value is %d' % value)"
   ]
  },
  {
   "cell_type": "markdown",
   "metadata": {},
   "source": [
    "Functions are easy to define. Indentation is important in this case as well."
   ]
  },
  {
   "cell_type": "code",
   "execution_count": 10,
   "metadata": {},
   "outputs": [
    {
     "name": "stdout",
     "output_type": "stream",
     "text": [
      "call payoff: 5.000000\n",
      "put payoff: -5.000000\n"
     ]
    }
   ],
   "source": [
    "# calculates the payoff of a european option\n",
    "def payoff(price, strike, flag):\n",
    "    if flag == 1:\n",
    "        return price - strike\n",
    "    else:\n",
    "        return strike - price\n",
    "\n",
    "price = 105\n",
    "strike = 100\n",
    "print('call payoff: %f' % payoff(price, strike, 1))\n",
    "print('put payoff: %f' % payoff(price, strike, -1))"
   ]
  },
  {
   "cell_type": "markdown",
   "metadata": {},
   "source": [
    "## Sequence Types\n",
    "Besides the usual built-in types like **bool**, **int**, **float**, etc. Python has what are called **Sequence Types** which allow you to store a collection of elements. We will see **lists**, **tuples** and **str**."
   ]
  },
  {
   "cell_type": "markdown",
   "metadata": {},
   "source": [
    "### Lists\n",
    "Lists are mutable sequences used to store a collection of homogeneous elements."
   ]
  },
  {
   "cell_type": "code",
   "execution_count": 1,
   "metadata": {},
   "outputs": [
    {
     "name": "stdout",
     "output_type": "stream",
     "text": [
      "strikes before:  [0.92, 0.95, 1, 1.05, 1.1]\n",
      "strikes after:  [0.9, 0.95, 1, 1.05, 1.1]\n",
      "strikes appended:  [0.9, 0.95, 1, 1.05, 1.1, 1.2]\n",
      "strikes cleared:  []\n"
     ]
    }
   ],
   "source": [
    "strikes = [0.92, 0.95, 1, 1.05, 1.1]\n",
    "print('strikes before: ', strikes)\n",
    "\n",
    "# lists are mutable\n",
    "strikes[0] = 0.9\n",
    "print('strikes after: ', strikes)\n",
    "\n",
    "# they come with operations allowed for mutable objects\n",
    "strikes.append(1.2)\n",
    "print('strikes appended: ', strikes)\n",
    "strikes.clear()\n",
    "print('strikes cleared: ', strikes)"
   ]
  },
  {
   "cell_type": "markdown",
   "metadata": {},
   "source": [
    "### Tuples\n"
   ]
  }
 ],
 "metadata": {
  "kernelspec": {
   "display_name": "Python 3",
   "language": "python",
   "name": "python3"
  },
  "language_info": {
   "codemirror_mode": {
    "name": "ipython",
    "version": 3
   },
   "file_extension": ".py",
   "mimetype": "text/x-python",
   "name": "python",
   "nbconvert_exporter": "python",
   "pygments_lexer": "ipython3",
   "version": "3.6.3"
  }
 },
 "nbformat": 4,
 "nbformat_minor": 2
}
