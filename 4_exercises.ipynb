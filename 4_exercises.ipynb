{
 "cells": [
  {
   "cell_type": "markdown",
   "metadata": {},
   "source": [
    "# Exercises\n",
    "\n",
    "We are going to implement some functions inspired on the Assignments."
   ]
  },
  {
   "cell_type": "markdown",
   "metadata": {},
   "source": [
    "## Monte Carlo Simulation\n",
    "Implement the function **EuropeanOptionMC** whose signature is defined below."
   ]
  },
  {
   "cell_type": "code",
   "execution_count": 21,
   "metadata": {},
   "outputs": [],
   "source": [
    "import numpy as np\n",
    "\n",
    "def EuropeanOptionMC(forward, strike, discount_factor, time_to_maturity, volatility, number_of_samples, flag):\n",
    "        \n",
    "    # generate random vectors:\n",
    "    zetas = np.random.randn(1,number_of_samples)\n",
    "    \n",
    "    # payoff vectors:\n",
    "    payoff = forward*np.exp(-volatility**2/2*time_to_maturity + volatility*np.sqrt(time_to_maturity)*zetas)-strike\n",
    "    \n",
    "    # put or call:\n",
    "    if flag == -1:\n",
    "        payoff = -payoff\n",
    "        \n",
    "    # positive part of payoff:\n",
    "    payoff = payoff.clip(0, np.inf)\n",
    "    \n",
    "    # compute price:\n",
    "    price = discount_factor * np.mean(payoff)\n",
    "    \n",
    "    return price\n",
    "    \n"
   ]
  },
  {
   "cell_type": "markdown",
   "metadata": {},
   "source": [
    "## Self-exercise: Black & Scholes formula.\n",
    "\n",
    "Let's do another exercise, and implement the standart B&S Pricing Formula:"
   ]
  },
  {
   "cell_type": "code",
   "execution_count": 12,
   "metadata": {},
   "outputs": [],
   "source": [
    "import numpy as np\n",
    "\n",
    "def EuropeanOptionBS(forward, strike, discount_factor, time_to_maturity, volatility, flag):\n",
    "    \n",
    "    from scipy.stats import norm\n",
    "    \n",
    "    # computation of d1 and d2:\n",
    "    d1 = np.log(forward/strike)/np.sqrt(time_to_maturity*volatility**2) + 0.5*np.sqrt(time_to_maturity*volatility**2)\n",
    "    \n",
    "    d2 = d1 - np.sqrt(time_to_maturity*volatility**2)\n",
    "    \n",
    "    price = discount_factor * (forward * norm.cdf(d1) - strike* norm.cdf(d2))\n",
    "    \n",
    "    # tbd: implement the put price:\n",
    "    return price\n",
    "    "
   ]
  },
  {
   "cell_type": "markdown",
   "metadata": {},
   "source": [
    "Let's try the implemented functions (as in Assignment 1):"
   ]
  },
  {
   "cell_type": "code",
   "execution_count": 19,
   "metadata": {},
   "outputs": [
    {
     "name": "stdout",
     "output_type": "stream",
     "text": [
      "Black & Scholes price:  0.09413403383853029\n",
      "Monte Carlo price:  0.0942805511357095\n"
     ]
    }
   ],
   "source": [
    "import numpy as np\n",
    "\n",
    "# parameters\n",
    "strike = 1\n",
    "volatility = 0.2\n",
    "ir = 0.03\n",
    "TTM = 1\n",
    "flag = 0\n",
    "\n",
    "# computation of forward and discount factor:\n",
    "forward = np.exp(TTM*ir)\n",
    "discount = 1/forward\n",
    "\n",
    "priceBS = EuropeanOptionBS(forward, strike, discount, TTM, volatility, flag)\n",
    "\n",
    "# price with Monte Carlo:\n",
    "M = 1000000\n",
    "priceMC = EuropeanOptionMC(forward, strike, discount, TTM, volatility, M, flag)\n",
    "\n",
    "\n",
    "print(\"Black & Scholes price: \", priceBS)\n",
    "print(\"Monte Carlo price: \", priceMC)"
   ]
  },
  {
   "cell_type": "code",
   "execution_count": 23,
   "metadata": {
    "scrolled": true
   },
   "outputs": [
    {
     "name": "stderr",
     "output_type": "stream",
     "text": [
      ".\n",
      "----------------------------------------------------------------------\n",
      "Ran 1 test in 0.002s\n",
      "\n",
      "OK\n",
      ".\n",
      "----------------------------------------------------------------------\n",
      "Ran 1 test in 0.002s\n",
      "\n",
      "OK\n"
     ]
    }
   ],
   "source": [
    "# make the tests pass\n",
    "\n",
    "from importlib import reload\n",
    "from test_helper import run_test\n",
    "import tests\n",
    "\n",
    "reload(tests)\n",
    "run_test(tests.EuropeanOptionMCTest('test_call', EuropeanOptionMC))\n",
    "run_test(tests.EuropeanOptionMCTest('test_put', EuropeanOptionMC))"
   ]
  },
  {
   "cell_type": "markdown",
   "metadata": {},
   "source": [
    "## Bootstrap Preprocessing\n",
    "First lets implement a function that reads the swap rates from the file **MktData_CurveBootstrap.xls**."
   ]
  },
  {
   "cell_type": "code",
   "execution_count": 30,
   "metadata": {},
   "outputs": [],
   "source": [
    "import pandas as pd\n",
    "\n",
    "def ReadSwapRates(file, sheet, fromRow, numberOfRows, columnRange):\n",
    "    swaps = pd.read_excel(file, sheet_name = sheet, index_col = 0, skiprows = fromRow, usecols = columnRange)\n",
    "    swaps = swaps[:numberOfRows]\n",
    "    \n",
    "    return swaps\n",
    "    "
   ]
  },
  {
   "cell_type": "markdown",
   "metadata": {},
   "source": [
    "Let's test the function:"
   ]
  },
  {
   "cell_type": "code",
   "execution_count": 38,
   "metadata": {},
   "outputs": [
    {
     "name": "stdout",
     "output_type": "stream",
     "text": [
      "                 BID       ASK\n",
      "Swap                          \n",
      "2009-02-19  4.120000  4.140000\n",
      "2010-02-19  3.861000  3.882000\n",
      "2011-02-21  3.882000  3.902000\n",
      "2012-02-20  3.948000  3.968000\n",
      "2013-02-19  4.032000  4.052000\n",
      "2014-02-19  4.117000  4.137000\n",
      "2015-02-19  4.202000  4.222000\n",
      "2016-02-19  4.283000  4.303000\n",
      "2017-02-20  4.357000  4.377000\n",
      "2018-02-19  4.424000  4.444000\n",
      "2019-02-19  4.473000  4.513000\n",
      "2020-02-19  4.524000  4.564000\n",
      "2021-02-19  4.565557  4.609897\n",
      "2022-02-21  4.603391  4.646468\n",
      "2023-02-20  4.636000  4.676000\n",
      "2024-02-19  4.662910  4.701032\n",
      "2025-02-19  4.684683  4.722343\n",
      "2026-02-19  4.701897  4.740038\n",
      "2027-02-19  4.715393  4.754474\n",
      "2028-02-21  4.726000  4.766000\n",
      "2029-02-19  4.734259  4.774764\n",
      "2030-02-19  4.740543  4.781173\n",
      "2031-02-19  4.744987  4.785489\n",
      "2032-02-19  4.747751  4.788001\n",
      "2033-02-21  4.749000  4.789000\n",
      "2034-02-20  4.748885  4.788744\n",
      "2035-02-19  4.747625  4.787446\n",
      "2036-02-19  4.745420  4.785272\n",
      "2037-02-19  4.742470  4.782392\n",
      "2038-02-19  4.739000  4.779000\n",
      "2039-02-21  4.735160  4.775220\n",
      "2040-02-20  4.731073  4.771170\n",
      "2041-02-19  4.726735  4.766852\n",
      "2042-02-19  4.722197  4.762318\n",
      "2043-02-19  4.717499  4.757613\n",
      "2044-02-19  4.712682  4.752779\n",
      "2045-02-20  4.707758  4.747832\n",
      "2046-02-19  4.702834  4.742882\n",
      "2047-02-19  4.697897  4.737920\n",
      "2048-02-19  4.693000  4.733000\n",
      "2049-02-19  4.688162  4.728145\n",
      "2050-02-21  4.683384  4.723355\n",
      "2051-02-20  4.678708  4.718672\n",
      "2052-02-19  4.674089  4.714050\n",
      "2053-02-19  4.669492  4.709454\n",
      "2054-02-19  4.664948  4.704914\n",
      "2055-02-19  4.660436  4.700408\n",
      "2056-02-21  4.655924  4.695904\n",
      "2057-02-19  4.651464  4.691454\n",
      "2058-02-19  4.647000  4.687000\n",
      "                 BID       ASK\n",
      "Swap                          \n",
      "2009-02-19  4.120000  4.140000\n",
      "2010-02-19  3.861000  3.882000\n",
      "2011-02-21  3.882000  3.902000\n",
      "2012-02-20  3.948000  3.968000\n",
      "2013-02-19  4.032000  4.052000\n",
      "2014-02-19  4.117000  4.137000\n",
      "2015-02-19  4.202000  4.222000\n",
      "2016-02-19  4.283000  4.303000\n",
      "2017-02-20  4.357000  4.377000\n",
      "2018-02-19  4.424000  4.444000\n",
      "2019-02-19  4.473000  4.513000\n",
      "2020-02-19  4.524000  4.564000\n",
      "2021-02-19  4.565557  4.609897\n",
      "2022-02-21  4.603391  4.646468\n",
      "2023-02-20  4.636000  4.676000\n",
      "2024-02-19  4.662910  4.701032\n",
      "2025-02-19  4.684683  4.722343\n",
      "2026-02-19  4.701897  4.740038\n",
      "2027-02-19  4.715393  4.754474\n",
      "2028-02-21  4.726000  4.766000\n",
      "2029-02-19  4.734259  4.774764\n",
      "2030-02-19  4.740543  4.781173\n",
      "2031-02-19  4.744987  4.785489\n",
      "2032-02-19  4.747751  4.788001\n",
      "2033-02-21  4.749000  4.789000\n",
      "2034-02-20  4.748885  4.788744\n",
      "2035-02-19  4.747625  4.787446\n",
      "2036-02-19  4.745420  4.785272\n",
      "2037-02-19  4.742470  4.782392\n",
      "2038-02-19  4.739000  4.779000\n",
      "2039-02-21  4.735160  4.775220\n",
      "2040-02-20  4.731073  4.771170\n",
      "2041-02-19  4.726735  4.766852\n",
      "2042-02-19  4.722197  4.762318\n",
      "2043-02-19  4.717499  4.757613\n",
      "2044-02-19  4.712682  4.752779\n",
      "2045-02-20  4.707758  4.747832\n",
      "2046-02-19  4.702834  4.742882\n",
      "2047-02-19  4.697897  4.737920\n",
      "2048-02-19  4.693000  4.733000\n",
      "2049-02-19  4.688162  4.728145\n",
      "2050-02-21  4.683384  4.723355\n",
      "2051-02-20  4.678708  4.718672\n",
      "2052-02-19  4.674089  4.714050\n",
      "2053-02-19  4.669492  4.709454\n",
      "2054-02-19  4.664948  4.704914\n",
      "2055-02-19  4.660436  4.700408\n",
      "2056-02-21  4.655924  4.695904\n",
      "2057-02-19  4.651464  4.691454\n",
      "2058-02-19  4.647000  4.687000\n"
     ]
    }
   ],
   "source": [
    "swap_rates = ReadSwapRates('MktData_CurveBootstrap.xls',sheet = 0, fromRow = 37, numberOfRows = 50, columnRange = 'D:F')\n",
    "\n",
    "print(swap_rates)\n",
    "\n",
    "#print(swap_rates.axes)\n",
    "swap_rates_numpy = swap_rates.to_numpy()\n",
    "print(swap_rates)"
   ]
  },
  {
   "cell_type": "code",
   "execution_count": 36,
   "metadata": {},
   "outputs": [
    {
     "name": "stderr",
     "output_type": "stream",
     "text": [
      ".\n",
      "----------------------------------------------------------------------\n",
      "Ran 1 test in 0.030s\n",
      "\n",
      "OK\n",
      ".\n",
      "----------------------------------------------------------------------\n",
      "Ran 1 test in 0.027s\n",
      "\n",
      "OK\n",
      ".\n",
      "----------------------------------------------------------------------\n",
      "Ran 1 test in 0.036s\n",
      "\n",
      "OK\n",
      ".\n",
      "----------------------------------------------------------------------\n",
      "Ran 1 test in 0.039s\n",
      "\n",
      "OK\n",
      ".\n",
      "----------------------------------------------------------------------\n",
      "Ran 1 test in 0.030s\n",
      "\n",
      "OK\n"
     ]
    }
   ],
   "source": [
    "# make the tests pass\n",
    "\n",
    "from importlib import reload\n",
    "from test_helper import run_test\n",
    "import tests\n",
    "\n",
    "reload(tests)\n",
    "run_test(tests.ReadSwapRatesTest('test_header', ReadSwapRates))\n",
    "run_test(tests.ReadSwapRatesTest('test_number_of_rows', ReadSwapRates))\n",
    "run_test(tests.ReadSwapRatesTest('test_dates', ReadSwapRates))\n",
    "run_test(tests.ReadSwapRatesTest('test_bids', ReadSwapRates))\n",
    "run_test(tests.ReadSwapRatesTest('test_asks', ReadSwapRates))\n"
   ]
  },
  {
   "cell_type": "markdown",
   "metadata": {},
   "source": [
    "Now lets extract the dates and calculate the mid rates."
   ]
  },
  {
   "cell_type": "code",
   "execution_count": 39,
   "metadata": {},
   "outputs": [
    {
     "name": "stdout",
     "output_type": "stream",
     "text": [
      "([Timestamp('2009-02-19 00:00:00'), Timestamp('2010-02-19 00:00:00'), Timestamp('2011-02-21 00:00:00'), Timestamp('2012-02-20 00:00:00'), Timestamp('2013-02-19 00:00:00'), Timestamp('2014-02-19 00:00:00'), Timestamp('2015-02-19 00:00:00'), Timestamp('2016-02-19 00:00:00'), Timestamp('2017-02-20 00:00:00'), Timestamp('2018-02-19 00:00:00'), Timestamp('2019-02-19 00:00:00'), Timestamp('2020-02-19 00:00:00'), Timestamp('2021-02-19 00:00:00'), Timestamp('2022-02-21 00:00:00'), Timestamp('2023-02-20 00:00:00'), Timestamp('2024-02-19 00:00:00'), Timestamp('2025-02-19 00:00:00'), Timestamp('2026-02-19 00:00:00'), Timestamp('2027-02-19 00:00:00'), Timestamp('2028-02-21 00:00:00'), Timestamp('2029-02-19 00:00:00'), Timestamp('2030-02-19 00:00:00'), Timestamp('2031-02-19 00:00:00'), Timestamp('2032-02-19 00:00:00'), Timestamp('2033-02-21 00:00:00'), Timestamp('2034-02-20 00:00:00'), Timestamp('2035-02-19 00:00:00'), Timestamp('2036-02-19 00:00:00'), Timestamp('2037-02-19 00:00:00'), Timestamp('2038-02-19 00:00:00'), Timestamp('2039-02-21 00:00:00'), Timestamp('2040-02-20 00:00:00'), Timestamp('2041-02-19 00:00:00'), Timestamp('2042-02-19 00:00:00'), Timestamp('2043-02-19 00:00:00'), Timestamp('2044-02-19 00:00:00'), Timestamp('2045-02-20 00:00:00'), Timestamp('2046-02-19 00:00:00'), Timestamp('2047-02-19 00:00:00'), Timestamp('2048-02-19 00:00:00'), Timestamp('2049-02-19 00:00:00'), Timestamp('2050-02-21 00:00:00'), Timestamp('2051-02-20 00:00:00'), Timestamp('2052-02-19 00:00:00'), Timestamp('2053-02-19 00:00:00'), Timestamp('2054-02-19 00:00:00'), Timestamp('2055-02-19 00:00:00'), Timestamp('2056-02-21 00:00:00'), Timestamp('2057-02-19 00:00:00'), Timestamp('2058-02-19 00:00:00')], array([4.13      , 3.8715    , 3.892     , 3.958     , 4.042     ,\n",
      "       4.127     , 4.212     , 4.293     , 4.367     , 4.434     ,\n",
      "       4.493     , 4.544     , 4.58772702, 4.62492965, 4.656     ,\n",
      "       4.68197071, 4.70351303, 4.72096738, 4.73493364, 4.746     ,\n",
      "       4.75451129, 4.76085796, 4.76523801, 4.76787598, 4.769     ,\n",
      "       4.76881451, 4.76753536, 4.76534588, 4.76243132, 4.759     ,\n",
      "       4.75519012, 4.7511215 , 4.74679327, 4.74225771, 4.7375563 ,\n",
      "       4.73273053, 4.72779481, 4.72285821, 4.71790827, 4.713     ,\n",
      "       4.70815344, 4.70336917, 4.69869041, 4.6940695 , 4.68947322,\n",
      "       4.68493113, 4.68042228, 4.67591388, 4.67145891, 4.667     ]))\n"
     ]
    }
   ],
   "source": [
    "import numpy as np\n",
    "import pandas as pd\n",
    "\n",
    "def ExtractDatesAndMidRates(swap_rates):\n",
    "    # swap_rates is the DataFrame returned by ReadSwapRates\n",
    "    # to return more than one result in Python simply separate them by comma, e.g. return dates, mid_rates\n",
    "    # return a plain Python list for the dates and a NumPy array for the rates\n",
    "    \n",
    "    dates = swap_rates.axes[0].tolist()\n",
    "    bids = swap_rates['BID'].to_numpy()\n",
    "    asks = swap_rates['ASK'].to_numpy()\n",
    "    \n",
    "    # alternative: bids = np.array(swap_rates['BID'])\n",
    "    \n",
    "    mid_rates = (bids + asks)/2\n",
    "    return dates, mid_rates\n",
    "\n",
    "\n",
    "# let's try this:\n",
    "print(ExtractDatesAndMidRates (swap_rates))"
   ]
  },
  {
   "cell_type": "code",
   "execution_count": 40,
   "metadata": {},
   "outputs": [
    {
     "name": "stderr",
     "output_type": "stream",
     "text": [
      ".\n",
      "----------------------------------------------------------------------\n",
      "Ran 1 test in 0.003s\n",
      "\n",
      "OK\n",
      ".\n",
      "----------------------------------------------------------------------\n",
      "Ran 1 test in 0.005s\n",
      "\n",
      "OK\n"
     ]
    }
   ],
   "source": [
    "# make the tests pass\n",
    "\n",
    "from importlib import reload\n",
    "from test_helper import run_test\n",
    "import tests\n",
    "\n",
    "reload(tests)\n",
    "run_test(tests.ExtractDatesAndMidRatesTest('test_dates', ExtractDatesAndMidRates))\n",
    "run_test(tests.ExtractDatesAndMidRatesTest('test_mid_rates', ExtractDatesAndMidRates))"
   ]
  },
  {
   "cell_type": "markdown",
   "metadata": {},
   "source": [
    "## Plotting\n",
    "In this exercise we are going to use the __[matplotlib](https://matplotlib.org/)__ library.\n",
    "\n",
    "Given the following survival probability function at time $t$: $ P(t,T) = e^{-\\lambda(T-t)}$ where $\\lambda = 4.10^{-3}$ and $T > t$,\n",
    "* Simulate $10^4$ times the default time $\\tau$\n",
    "* Calculate the empirical survival probabilities up to 30 years from these samples, use a 1 year granularity\n",
    "* Plot in a loglinear scale both the empirical survival probabilities and the theoretical survival probabilities\n"
   ]
  },
  {
   "cell_type": "markdown",
   "metadata": {},
   "source": [
    "First lets implement a function to calculate the empirical survival probabilities. Some functions that may come handy: __[numpy.floor](https://docs.scipy.org/doc/numpy/reference/generated/numpy.floor.html)__, __[numpy.count_nonzero](https://docs.scipy.org/doc/numpy/reference/generated/numpy.count_nonzero.html)__, and __[numpy.cumsum](https://docs.scipy.org/doc/numpy/reference/generated/numpy.cumsum.html)__,"
   ]
  },
  {
   "cell_type": "code",
   "execution_count": 2,
   "metadata": {},
   "outputs": [],
   "source": [
    "import numpy as np\n",
    "\n",
    "def CalculateEmpiricalSurvivalProbabilities(number_of_samples, lambdas, last_year):\n",
    "    raise NotImplementedError"
   ]
  },
  {
   "cell_type": "code",
   "execution_count": 3,
   "metadata": {},
   "outputs": [
    {
     "name": "stderr",
     "output_type": "stream",
     "text": [
      "E\n",
      "======================================================================\n",
      "ERROR: test_size_must_be_30 (tests.CalculateEmpiricalSurvivalProbabilitiesTest)\n",
      "----------------------------------------------------------------------\n",
      "Traceback (most recent call last):\n",
      "  File \"C:\\Users\\mpaggia\\P\\financial-engineering-python-lab\\tests.py\", line 111, in test_size_must_be_30\n",
      "    actual_probabilities = self.student_function(self.number_of_samples, self.lambdas, self.last_year)\n",
      "  File \"<ipython-input-2-b882d4489dc2>\", line 4, in CalculateEmpiricalSurvivalProbabilities\n",
      "    raise NotImplementedError\n",
      "NotImplementedError\n",
      "\n",
      "----------------------------------------------------------------------\n",
      "Ran 1 test in 0.007s\n",
      "\n",
      "FAILED (errors=1)\n",
      "E\n",
      "======================================================================\n",
      "ERROR: test_probabilities (tests.CalculateEmpiricalSurvivalProbabilitiesTest)\n",
      "----------------------------------------------------------------------\n",
      "Traceback (most recent call last):\n",
      "  File \"C:\\Users\\mpaggia\\P\\financial-engineering-python-lab\\tests.py\", line 118, in test_probabilities\n",
      "    actual_probabilities = self.student_function(self.number_of_samples, self.lambdas, self.last_year)\n",
      "  File \"<ipython-input-2-b882d4489dc2>\", line 4, in CalculateEmpiricalSurvivalProbabilities\n",
      "    raise NotImplementedError\n",
      "NotImplementedError\n",
      "\n",
      "----------------------------------------------------------------------\n",
      "Ran 1 test in 0.003s\n",
      "\n",
      "FAILED (errors=1)\n"
     ]
    }
   ],
   "source": [
    "# make the tests pass\n",
    "\n",
    "from importlib import reload\n",
    "from test_helper import run_test\n",
    "import tests\n",
    "\n",
    "reload(tests)\n",
    "run_test(tests.CalculateEmpiricalSurvivalProbabilitiesTest('test_size_must_be_30', CalculateEmpiricalSurvivalProbabilities))\n",
    "run_test(tests.CalculateEmpiricalSurvivalProbabilitiesTest('test_probabilities', CalculateEmpiricalSurvivalProbabilities))"
   ]
  },
  {
   "cell_type": "markdown",
   "metadata": {},
   "source": [
    "Now let's plot our results. Check the __[examples](https://matplotlib.org/tutorials/introductory/sample_plots.html)__ provided in the matplotlib page."
   ]
  },
  {
   "cell_type": "code",
   "execution_count": null,
   "metadata": {},
   "outputs": [],
   "source": [
    "import matplotlib\n",
    "import matplotlib.pyplot as plt\n",
    "import numpy as np\n",
    "import solutions\n",
    "\n",
    "# Data for plotting\n",
    "lambdas = 0.004\n",
    "number_of_samples = 10**4\n",
    "last_year = 30\n",
    "times = np.arange(1, last_year + 1)\n",
    "theoretical_probabilities = np.exp(-lambdas*times)\n",
    "empirical_probabilities = solutions.CalculateEmpiricalSurvivalProbabilities(number_of_samples, lambdas, last_year)\n",
    "\n",
    "# get handle for the plot\n",
    "fig, ax = plt.subplots()\n",
    "\n",
    "# plot theoretical_probabilities and empirical_probabilities\n",
    "# TODO\n",
    "\n",
    "# set labels\n",
    "ax.set(xlabel='time (years)', ylabel='survival probabilities')\n",
    "\n",
    "# show plot\n",
    "plt.show()"
   ]
  },
  {
   "cell_type": "code",
   "execution_count": null,
   "metadata": {},
   "outputs": [],
   "source": []
  }
 ],
 "metadata": {
  "kernelspec": {
   "display_name": "Python 3",
   "language": "python",
   "name": "python3"
  },
  "language_info": {
   "codemirror_mode": {
    "name": "ipython",
    "version": 3
   },
   "file_extension": ".py",
   "mimetype": "text/x-python",
   "name": "python",
   "nbconvert_exporter": "python",
   "pygments_lexer": "ipython3",
   "version": "3.8.5"
  }
 },
 "nbformat": 4,
 "nbformat_minor": 2
}
